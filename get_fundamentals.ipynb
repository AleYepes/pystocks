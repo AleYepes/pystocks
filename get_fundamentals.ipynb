{
 "cells": [
  {
   "cell_type": "code",
   "execution_count": null,
   "metadata": {},
   "outputs": [],
   "source": [
    "import numpy as np\n",
    "import pandas as pd\n",
    "import re\n",
    "import ast\n",
    "import pycountry\n",
    "import requests\n",
    "import dcor\n",
    "from tqdm import tqdm\n",
    "from ib_async import *\n",
    "import yfinance as yf"
   ]
  },
  {
   "cell_type": "code",
   "execution_count": null,
   "metadata": {},
   "outputs": [],
   "source": [
    "contracts = pd.read_csv('data/contract_details.csv')\n",
    "contracts['contract'] = contracts['contract'].apply(lambda x: eval(x))"
   ]
  },
  {
   "cell_type": "code",
   "execution_count": null,
   "metadata": {},
   "outputs": [],
   "source": [
    "contracts = pd.read_csv('data/contract_details.csv')\n",
    "\n",
    "data = {}\n",
    "for _, row in contracts.iloc[:1].iterrows():\n",
    "    payload = [{\"idType\": \"ID_ISIN\", \"idValue\": row['isin']}]\n",
    "    response = requests.post(\"https://api.openfigi.com/v3/mapping\", json=payload).json()\n",
    "\n",
    "    counts = Counter(i['ticker'] for i in response[0]['data'])\n",
    "    for symbol in list(counts):\n",
    "        symbol_data = yf.Ticker(symbol)\n",
    "        data[symbol] = {\n",
    "            'info': symbol_data.info,\n",
    "            'financials': symbol_data.financials,\n",
    "            'series': symbol_data.history(period=\"1y\", interval=\"1d\"),\n",
    "            'quarterly_fin': symbol_data.quarterly_financials,\n",
    "            'balancesheet': symbol_data.balance_sheet,\n",
    "            'quarterly_bs': symbol_data.quarterly_balance_sheet,\n",
    "        }\n",
    "data"
   ]
  },
  {
   "cell_type": "code",
   "execution_count": null,
   "metadata": {},
   "outputs": [],
   "source": [
    "# for sym in symbols:\n",
    "data = yf.Ticker(symbols[0])\n",
    "info = data.info\n",
    "financials = data.financials"
   ]
  },
  {
   "cell_type": "code",
   "execution_count": null,
   "metadata": {},
   "outputs": [],
   "source": [
    "import requests\n",
    "from collections import Counter\n",
    "\n",
    "payload = [{\"idType\": \"ID_ISIN\", \"idValue\": \"US5949181045\"}]\n",
    "response = requests.post(\"https://api.openfigi.com/v3/mapping\", json=payload).json()\n",
    "\n",
    "counts = Counter(i['ticker'] for i in response[0]['data'])\n",
    "symbol = list(counts)[0]"
   ]
  },
  {
   "cell_type": "code",
   "execution_count": null,
   "metadata": {},
   "outputs": [],
   "source": [
    "from collections import Counter\n",
    "counts = Counter(i['ticker'] for i in response[0]['data'])\n",
    "symbol = list(counts)[0]"
   ]
  }
 ],
 "metadata": {
  "kernelspec": {
   "display_name": "venv",
   "language": "python",
   "name": "python3"
  },
  "language_info": {
   "codemirror_mode": {
    "name": "ipython",
    "version": 3
   },
   "file_extension": ".py",
   "mimetype": "text/x-python",
   "name": "python",
   "nbconvert_exporter": "python",
   "pygments_lexer": "ipython3",
   "version": "3.12.8"
  }
 },
 "nbformat": 4,
 "nbformat_minor": 2
}
